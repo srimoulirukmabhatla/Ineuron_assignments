{
 "cells": [
  {
   "cell_type": "markdown",
   "metadata": {},
   "source": [
    "#  ## Write a Python Program(with class concepts) to find the area of the triangle using the below formula.\n",
    "area = (s*(s-a)*(s-b)*(s-c)) ** 0.5\n"
   ]
  },
  {
   "cell_type": "code",
   "execution_count": 10,
   "metadata": {},
   "outputs": [
    {
     "name": "stdout",
     "output_type": "stream",
     "text": [
      "Enter value of a10\n",
      "Enter value of b10\n",
      "Enter value of c10\n",
      "Area of Triangle :  43.30127018922193\n"
     ]
    }
   ],
   "source": [
    "class Parent:\n",
    "    def __init__(self,a,b,c):\n",
    "        self.a=a\n",
    "        self.b=b\n",
    "        self.c=c\n",
    "        self.s=(self.a+self.b+self.c)/2\n",
    "    def area(self):\n",
    "         print('Area of Triangle : ',(self.s*(self.s-a)*(self.s-b)*(self.s-c))**0.5)\n",
    "class Child(Parent):\n",
    "    def __init__(self,a,b,c):\n",
    "        super().__init__(a,b,c)\n",
    "    def area(self):\n",
    "        super().area()\n",
    "a=int(input('Enter value of a'))\n",
    "b=int(input('Enter value of b'))\n",
    "c=int(input('Enter value of c'))\n",
    "\n",
    "        \n",
    "ch=Child(a,b,c)\n",
    "ch.area()\n"
   ]
  },
  {
   "cell_type": "markdown",
   "metadata": {},
   "source": [
    "## Write a function filter_long_words() that takes a list of words and an integer n and returns the list of words that are longer than n.\n"
   ]
  },
  {
   "cell_type": "code",
   "execution_count": 19,
   "metadata": {},
   "outputs": [
    {
     "name": "stdout",
     "output_type": "stream",
     "text": [
      "Please Enter the list of words: please do confirm\n",
      "Please Enter an integer: 4\n",
      "['please', 'do', 'confirm']\n",
      "The list of words length greater than the 4 is ['please', 'confirm']\n"
     ]
    }
   ],
   "source": [
    "def filterlongword(string,number):\n",
    "    words=string.split(' ')\n",
    "    listwords = []\n",
    "    for i in words:\n",
    "        \n",
    "        if len(i) > number:\n",
    "            listwords.append(i)\n",
    "\n",
    "    return listwords \n",
    "\n",
    "\n",
    "\n",
    "words = input(\"Please Enter the list of words: \")\n",
    "integer = eval(input(\"Please Enter an integer: \"))\n",
    "\n",
    "words1 = filterlongword(words,integer)\n",
    "\n",
    "print(\"The list of words length greater than the {} is {}\".format(integer,words1))\n",
    "\n",
    "\n",
    " "
   ]
  },
  {
   "cell_type": "markdown",
   "metadata": {},
   "source": [
    "## Write a Python program using function concept that maps list of words into a list of integers representing the lengths of the corresponding words."
   ]
  },
  {
   "cell_type": "code",
   "execution_count": 26,
   "metadata": {},
   "outputs": [
    {
     "name": "stdout",
     "output_type": "stream",
     "text": [
      "we area ready to face issues\n",
      "[2, 4, 5, 2, 4, 6]\n"
     ]
    }
   ],
   "source": [
    "lst1=[]\n",
    "sentence=input()\n",
    "words=sentence.split(' ')\n",
    "def map_words_tolength(List):\n",
    "    return list(map(len, List))\n",
    "    \n",
    "result=map_words_tolength(words)\n",
    "print(result)"
   ]
  },
  {
   "cell_type": "markdown",
   "metadata": {},
   "source": [
    "# Write a Python function which takes a character (i.e. a string of length 1) and returns True if it is a vowel, False otherwise."
   ]
  },
  {
   "cell_type": "code",
   "execution_count": 20,
   "metadata": {},
   "outputs": [
    {
     "name": "stdout",
     "output_type": "stream",
     "text": [
      "Enter a characterz\n",
      "False\n"
     ]
    }
   ],
   "source": [
    "def Is_Vowel(char):\n",
    "    vowels=['a','e','i','o','u']\n",
    "    if char in vowels:\n",
    "        print(True)\n",
    "    else:\n",
    "        print(False)\n",
    "\n",
    "c=input('Enter a character')\n",
    "Is_Vowel(c)"
   ]
  }
 ],
 "metadata": {
  "kernelspec": {
   "display_name": "Python 3",
   "language": "python",
   "name": "python3"
  },
  "language_info": {
   "codemirror_mode": {
    "name": "ipython",
    "version": 3
   },
   "file_extension": ".py",
   "mimetype": "text/x-python",
   "name": "python",
   "nbconvert_exporter": "python",
   "pygments_lexer": "ipython3",
   "version": "3.8.5"
  }
 },
 "nbformat": 4,
 "nbformat_minor": 4
}
